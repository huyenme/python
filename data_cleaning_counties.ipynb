{
 "cells": [
  {
   "cell_type": "code",
   "execution_count": 1,
   "metadata": {},
   "outputs": [
    {
     "ename": "ImportError",
     "evalue": "No module named geopandas",
     "output_type": "error",
     "traceback": [
      "\u001b[0;31m---------------------------------------------------------------------------\u001b[0m",
      "\u001b[0;31mImportError\u001b[0m                               Traceback (most recent call last)",
      "\u001b[0;32m<ipython-input-1-f94283bcb326>\u001b[0m in \u001b[0;36m<module>\u001b[0;34m()\u001b[0m\n\u001b[0;32m----> 1\u001b[0;31m \u001b[0;32mimport\u001b[0m \u001b[0mgeopandas\u001b[0m \u001b[0;32mas\u001b[0m \u001b[0mgpd\u001b[0m\u001b[0;34m\u001b[0m\u001b[0m\n\u001b[0m\u001b[1;32m      2\u001b[0m \u001b[0;32mimport\u001b[0m \u001b[0mpandas\u001b[0m \u001b[0;32mas\u001b[0m \u001b[0mpd\u001b[0m\u001b[0;34m\u001b[0m\u001b[0m\n",
      "\u001b[0;31mImportError\u001b[0m: No module named geopandas"
     ]
    }
   ],
   "source": [
    "import geopandas as gpd\n",
    "import pandas as pd"
   ]
  },
  {
   "cell_type": "markdown",
   "metadata": {},
   "source": [
    "Read in Census shapefile"
   ]
  },
  {
   "cell_type": "code",
   "execution_count": null,
   "metadata": {},
   "outputs": [],
   "source": [
    "county_file = gpd.read_file(\"../data/county/\")\n",
    "# make sure the crs is set\n",
    "county_file.crs = {\"init\": \"epsg:4326\" }"
   ]
  },
  {
   "cell_type": "markdown",
   "metadata": {},
   "source": [
    "Preview geometries"
   ]
  },
  {
   "cell_type": "code",
   "execution_count": null,
   "metadata": {},
   "outputs": [],
   "source": [
    "county_file.plot(\n",
    "    figsize = (16,9)\n",
    ");"
   ]
  },
  {
   "cell_type": "markdown",
   "metadata": {},
   "source": [
    "Remove Alaska, Hawaii and various territories"
   ]
  },
  {
   "cell_type": "code",
   "execution_count": null,
   "metadata": {},
   "outputs": [],
   "source": [
    "counties = county_file[ \n",
    "    ~county_file[\"STATEFP\"].str.contains(\n",
    "        \"72|66|60|02|78|15|69\"\n",
    "    )\n",
    "]"
   ]
  },
  {
   "cell_type": "code",
   "execution_count": null,
   "metadata": {},
   "outputs": [],
   "source": [
    "counties = county_file[ \n",
    "    ~county_file[\"STATEFP\"].str.contains(\n",
    "        \"72|66|60|02|78|15|69\"\n",
    "    )\n",
    "].to_crs(\n",
    "    # http://spatialreference.org/ref/epsg/2163/\n",
    "    {'init':'epsg:2163'}\n",
    ")\n",
    "\n",
    "counties.plot()"
   ]
  },
  {
   "cell_type": "markdown",
   "metadata": {},
   "source": [
    "Subset columns"
   ]
  },
  {
   "cell_type": "code",
   "execution_count": null,
   "metadata": {},
   "outputs": [],
   "source": [
    "counties[\n",
    "    ['STATEFP',\n",
    "     'COUNTYFP', \n",
    "     'COUNTYNS', \n",
    "     'GEOID', \n",
    "     'NAME', \n",
    "     'NAMELSAD', \n",
    "     'ALAND',\n",
    "     'AWATER',\n",
    "     'INTPTLAT',\n",
    "     'INTPTLON',\n",
    "     'geometry']\n",
    "].to_file(\"../output/counties_simple/counties_simple.shp\")\n",
    "# Note that the deprecation warning will go away with next geopandas release: https://github.com/geopandas/geopandas/issues/882"
   ]
  },
  {
   "cell_type": "markdown",
   "metadata": {},
   "source": [
    "View geometries"
   ]
  },
  {
   "cell_type": "code",
   "execution_count": null,
   "metadata": {},
   "outputs": [],
   "source": [
    "gpd.read_file(\"../output/counties_simple/\").plot(\n",
    "    column = 'ALAND',\n",
    "    figsize = (16, 9),\n",
    "    cmap = \"BuGn\",\n",
    "    legend = True,\n",
    "    edgecolor = \"black\",\n",
    "    linewidth = 0.1\n",
    ").axis('off');"
   ]
  },
  {
   "cell_type": "code",
   "execution_count": null,
   "metadata": {},
   "outputs": [],
   "source": []
  },
  {
   "cell_type": "code",
   "execution_count": null,
   "metadata": {},
   "outputs": [],
   "source": []
  }
 ],
 "metadata": {
  "kernelspec": {
   "display_name": "Python 2",
   "language": "python",
   "name": "python2"
  },
  "language_info": {
   "codemirror_mode": {
    "name": "ipython",
    "version": 2
   },
   "file_extension": ".py",
   "mimetype": "text/x-python",
   "name": "python",
   "nbconvert_exporter": "python",
   "pygments_lexer": "ipython2",
   "version": "2.7.10"
  }
 },
 "nbformat": 4,
 "nbformat_minor": 2
}
