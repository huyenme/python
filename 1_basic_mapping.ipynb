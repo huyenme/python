{
 "cells": [
  {
   "cell_type": "code",
   "execution_count": null,
   "metadata": {},
   "outputs": [],
   "source": [
    "!pip install geopandas"
   ]
  },
  {
   "cell_type": "code",
   "execution_count": 1,
   "metadata": {},
   "outputs": [
    {
     "ename": "ImportError",
     "evalue": "No module named geopandas",
     "output_type": "error",
     "traceback": [
      "\u001b[0;31m---------------------------------------------------------------------------\u001b[0m",
      "\u001b[0;31mImportError\u001b[0m                               Traceback (most recent call last)",
      "\u001b[0;32m<ipython-input-1-a62d01c1d62e>\u001b[0m in \u001b[0;36m<module>\u001b[0;34m()\u001b[0m\n\u001b[0;32m----> 1\u001b[0;31m \u001b[0;32mimport\u001b[0m \u001b[0mgeopandas\u001b[0m \u001b[0;32mas\u001b[0m \u001b[0mgpd\u001b[0m\u001b[0;34m\u001b[0m\u001b[0m\n\u001b[0m",
      "\u001b[0;31mImportError\u001b[0m: No module named geopandas"
     ]
    }
   ],
   "source": [
    "import geopandas as gpd"
   ]
  },
  {
   "cell_type": "markdown",
   "metadata": {},
   "source": [
    "A jupyter `magic` command:"
   ]
  },
  {
   "cell_type": "code",
   "execution_count": null,
   "metadata": {},
   "outputs": [],
   "source": [
    "%matplotlib inline"
   ]
  },
  {
   "cell_type": "markdown",
   "metadata": {},
   "source": [
    "Read in file. If you've used Pandas before, the method is really similar."
   ]
  },
  {
   "cell_type": "code",
   "execution_count": null,
   "metadata": {},
   "outputs": [],
   "source": [
    "counties = gpd.read_file(\n",
    "    \"../output/counties_simple/counties_simple.shp\"\n",
    ")"
   ]
  },
  {
   "cell_type": "markdown",
   "metadata": {},
   "source": [
    "This is just a shapefile from the Census that I've simplified a bit to remove cruft. It should give you polygons and some basic geographic data about US Counties. Learn more about it at the Census' [Tiger Line site](https://www.census.gov/geo/maps-data/data/tiger-line.html)."
   ]
  },
  {
   "cell_type": "markdown",
   "metadata": {},
   "source": [
    "It's like a dataframe, which means you can use [Pandas methods](https://pandas.pydata.org/pandas-docs/stable/reference/api/pandas.DataFrame.html) to transform and analyze it. But it's really a [`GeoDataFrame`](http://geopandas.org/data_structures.html)."
   ]
  },
  {
   "cell_type": "code",
   "execution_count": null,
   "metadata": {},
   "outputs": [],
   "source": [
    "type(counties)"
   ]
  },
  {
   "cell_type": "markdown",
   "metadata": {},
   "source": [
    "The main thing that makes a DataFrame a `GeoDataFrame` is that it's got a `geometry` column that describes a point or a polygon."
   ]
  },
  {
   "cell_type": "code",
   "execution_count": null,
   "metadata": {},
   "outputs": [],
   "source": [
    "counties.head(3)"
   ]
  },
  {
   "cell_type": "markdown",
   "metadata": {},
   "source": [
    "In Pandas we have `DataFrame.plot()` which gives us some basic charting tools. GeoPandas does something very similar."
   ]
  },
  {
   "cell_type": "code",
   "execution_count": null,
   "metadata": {},
   "outputs": [],
   "source": [
    "counties.plot();"
   ]
  },
  {
   "cell_type": "markdown",
   "metadata": {},
   "source": [
    "You can pass in options to change how it looks. A full list is [here](http://geopandas.org/reference.html#geopandas.GeoDataFrame.plot)."
   ]
  },
  {
   "cell_type": "code",
   "execution_count": null,
   "metadata": {},
   "outputs": [],
   "source": [
    "counties.plot(\n",
    "    figsize = (16, 9), # a tuple giving width and height in INCHES (I know, it's dumb)\n",
    "    color = \"maroon\",\n",
    "    edgecolor = \"lightgray\",\n",
    "    linewidth = 0.5\n",
    ");"
   ]
  },
  {
   "cell_type": "markdown",
   "metadata": {},
   "source": [
    "We can plot choropleths by simply delcaring a numeric column. Let's pick one."
   ]
  },
  {
   "cell_type": "code",
   "execution_count": null,
   "metadata": {},
   "outputs": [],
   "source": [
    "counties.dtypes # in pandas an 'object' is a string"
   ]
  },
  {
   "cell_type": "markdown",
   "metadata": {},
   "source": [
    "`Aland` is the land area. Plot it with the `column` parameter. It will take a moment because there's a lot of counties to draw!"
   ]
  },
  {
   "cell_type": "code",
   "execution_count": null,
   "metadata": {},
   "outputs": [],
   "source": [
    "ax = counties.plot(\n",
    "    figsize = (16, 9),\n",
    "    column = \"ALAND\",\n",
    "    cmap = \"BuGn\", # https://matplotlib.org/users/colormaps.html\n",
    "    edgecolor = \"black\",\n",
    "    linewidth = 0.1,\n",
    "    legend = True\n",
    ")"
   ]
  },
  {
   "cell_type": "markdown",
   "metadata": {},
   "source": [
    "The axis box is kind of annoying. Unfortunately there's no built-in parameter in the `plot` function that removes this. But there's a funny method we can access right on the object that the plot function returns"
   ]
  },
  {
   "cell_type": "code",
   "execution_count": null,
   "metadata": {},
   "outputs": [],
   "source": [
    "ax = counties.plot(\n",
    "    figsize = (16, 9),\n",
    "    column = \"ALAND\",\n",
    "    cmap = \"BuGn\", # https://matplotlib.org/users/colormaps.html\n",
    "    edgecolor = \"black\",\n",
    "    linewidth = 0.1,\n",
    "    vmax = 52000000000,\n",
    "    legend = True\n",
    ")\n",
    "\n",
    "ax.axis(\"off\");"
   ]
  },
  {
   "cell_type": "markdown",
   "metadata": {},
   "source": [
    "Is the legend bothering you? We can fix it, but it's a PITA. It's a somewhat \"advanced\" mapping technique because but yeah let's just do it anyway"
   ]
  },
  {
   "cell_type": "code",
   "execution_count": null,
   "metadata": {},
   "outputs": [],
   "source": [
    "ax = counties.plot(\n",
    "    figsize = (16, 9),\n",
    "    column = \"ALAND\",\n",
    "    cmap = \"BuGn\", # https://matplotlib.org/users/colormaps.html\n",
    "    edgecolor = \"black\",\n",
    "    linewidth = 0.1,\n",
    "    vmax = 52000000000,\n",
    "    legend = True\n",
    ")\n",
    "\n",
    "ax.axis(\"off\")\n",
    "\n",
    "# The color bar is an axis added to the figure when you do Legend = True. Access it by simply iterating through the axes\n",
    "colorbar = ax.get_figure().get_axes()[1]\n",
    "# This will return an Array of yticks. Treat it like a List\n",
    "yticks = colorbar.get_yticks()\n",
    "# Using string formatting. Adds commas and removes trailing zeros\n",
    "colorbar.set_yticklabels(['{0:,.0f}'.format(ytick/1000000000) for ytick in yticks]);\n",
    "# Just sets a title\n",
    "colorbar.set_title(\"Square Kilometers\\n(Millions)\");\n"
   ]
  },
  {
   "cell_type": "code",
   "execution_count": null,
   "metadata": {},
   "outputs": [],
   "source": []
  }
 ],
 "metadata": {
  "kernelspec": {
   "display_name": "Python 2",
   "language": "python",
   "name": "python2"
  },
  "language_info": {
   "codemirror_mode": {
    "name": "ipython",
    "version": 2
   },
   "file_extension": ".py",
   "mimetype": "text/x-python",
   "name": "python",
   "nbconvert_exporter": "python",
   "pygments_lexer": "ipython2",
   "version": "2.7.10"
  }
 },
 "nbformat": 4,
 "nbformat_minor": 2
}
